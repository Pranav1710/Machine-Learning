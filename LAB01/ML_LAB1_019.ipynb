{
  "nbformat": 4,
  "nbformat_minor": 0,
  "metadata": {
    "colab": {
      "name": "ML_LAB1_019.ipynb",
      "provenance": [],
      "collapsed_sections": []
    },
    "kernelspec": {
      "name": "python3",
      "display_name": "Python 3"
    },
    "language_info": {
      "name": "python"
    }
  },
  "cells": [
    {
      "cell_type": "code",
      "metadata": {
        "colab": {
          "base_uri": "https://localhost:8080/"
        },
        "id": "pTrMyI4p_KGI",
        "outputId": "e9605795-d021-43e6-c23f-f915cab2ca55"
      },
      "source": [
        "# creation 4x5 matrix\n",
        "import numpy as np\n",
        "import random \n",
        "\n",
        "arr1 = [0] * 4\n",
        "\n",
        "for i in range(4):\n",
        "  arr1[i]=[]\n",
        "  for _ in range(5):\n",
        "    arr1[i].append(random.randint(0,20))\n",
        "\n",
        "print(arr1)"
      ],
      "execution_count": null,
      "outputs": [
        {
          "output_type": "stream",
          "name": "stdout",
          "text": [
            "[[9, 5, 9, 8, 2], [19, 5, 9, 3, 6], [10, 0, 0, 19, 10], [6, 15, 16, 0, 17]]\n"
          ]
        }
      ]
    },
    {
      "cell_type": "code",
      "metadata": {
        "colab": {
          "base_uri": "https://localhost:8080/"
        },
        "id": "pfXVfdFWBMHO",
        "outputId": "91e302df-9764-4bc4-a200-155db67cefdc"
      },
      "source": [
        "# transpose and determinant of matrix\n",
        "\n",
        "matrix1 = np.array(arr1)\n",
        "\n",
        "transpose = matrix1.T\n",
        "print(transpose)\n",
        "\n",
        "det = np.linalg.det(transpose[:4])\n",
        "print(\" determinant is : \", det)"
      ],
      "execution_count": null,
      "outputs": [
        {
          "output_type": "stream",
          "name": "stdout",
          "text": [
            "[[ 8 10 13 17]\n",
            " [19 15 14  6]\n",
            " [13 20  1  7]\n",
            " [18  9  7  3]\n",
            " [12  7 10  8]]\n",
            " determinant is :  24689.999999999967\n"
          ]
        }
      ]
    },
    {
      "cell_type": "code",
      "metadata": {
        "colab": {
          "base_uri": "https://localhost:8080/"
        },
        "id": "br6MuFBJELcd",
        "outputId": "0e58165f-fb46-4d2b-a5f1-bfae99c32c10"
      },
      "source": [
        "# creation 5x4 matrix\n",
        "import numpy as np\n",
        "import random \n",
        "\n",
        "arr2 = [0] * 5\n",
        "\n",
        "for i in range(5):\n",
        "  arr2[i] = []\n",
        "  for _ in range(4):\n",
        "    arr2[i].append(random.randint(0,20))\n",
        "\n",
        "print(arr2)"
      ],
      "execution_count": null,
      "outputs": [
        {
          "output_type": "stream",
          "name": "stdout",
          "text": [
            "[[17, 6, 6, 12], [19, 5, 20, 6], [16, 1, 5, 0], [7, 15, 3, 7], [0, 6, 19, 4]]\n"
          ]
        }
      ]
    },
    {
      "cell_type": "code",
      "metadata": {
        "colab": {
          "base_uri": "https://localhost:8080/"
        },
        "id": "edBaS-RBEjTG",
        "outputId": "c90d97dc-ae42-4897-d88a-756e24e6035e"
      },
      "source": [
        "# matrix multiplication\n",
        "\n",
        "mul = np.dot(arr1,arr2)\n",
        "print(mul)"
      ],
      "execution_count": null,
      "outputs": [
        {
          "output_type": "stream",
          "name": "stdout",
          "text": [
            "[[ 611  506  783  525]\n",
            " [ 692  590 1000  623]\n",
            " [ 616  605  788  548]\n",
            " [ 547  515  657  505]]\n"
          ]
        }
      ]
    },
    {
      "cell_type": "code",
      "metadata": {
        "colab": {
          "base_uri": "https://localhost:8080/"
        },
        "id": "OP4XtbEBFWHX",
        "outputId": "7fda5921-e672-4967-c3f0-388a5b9d7f4c"
      },
      "source": [
        "# element wise multiplication\n",
        "\n",
        "elemul = np.multiply(arr1,arr1)\n",
        "print(elemul)\n",
        "\n"
      ],
      "execution_count": null,
      "outputs": [
        {
          "output_type": "stream",
          "name": "stdout",
          "text": [
            "[[ 81  25  81  64   4]\n",
            " [361  25  81   9  36]\n",
            " [100   0   0 361 100]\n",
            " [ 36 225 256   0 289]]\n"
          ]
        }
      ]
    },
    {
      "cell_type": "code",
      "metadata": {
        "colab": {
          "base_uri": "https://localhost:8080/"
        },
        "id": "HE8kYpIJIMlf",
        "outputId": "51138fa4-65a6-4068-fda1-25767ac36108"
      },
      "source": [
        "# find mean\n",
        "\n",
        "mean = np.mean(matrix1) # Get the mean for the whole matrix\n",
        "meanByCols = np.mean(matrix1, axis=0) # Get the mean for each column. Returns 5 elements\n",
        "meanByRows = np.mean(matrix1, axis=1) # get the mean for each row. Returns 4 elements\n",
        "\n",
        "print(mean)\n",
        "print(meanByCols)\n",
        "print(meanByRows)"
      ],
      "execution_count": null,
      "outputs": [
        {
          "output_type": "stream",
          "name": "stdout",
          "text": [
            "10.55\n",
            "[16.5   8.5  11.5   4.5  11.75]\n",
            "[ 9.4 12.2 11.6  9. ]\n"
          ]
        }
      ]
    },
    {
      "cell_type": "code",
      "metadata": {
        "id": "3l6mVlHsJIZN",
        "colab": {
          "base_uri": "https://localhost:8080/"
        },
        "outputId": "e181933c-94ae-4079-ee45-e6c50e209d20"
      },
      "source": [
        "# find median\n",
        "\n",
        "median = np.median(matrix1) # Get the mean for the whole matrix\n",
        "medianByCols = np.median(matrix1, axis=0) # Get the mean for each column. Returns 5 elements\n",
        "medianByRows = np.median(matrix1, axis=1) # get the mean for each row. Returns 4 elements\n",
        "\n",
        "print(median)\n",
        "print(medianByCols)\n",
        "print(medianByRows)"
      ],
      "execution_count": null,
      "outputs": [
        {
          "output_type": "stream",
          "name": "stdout",
          "text": [
            "9.5\n",
            "[10.   4.   7.5 12.  11.5]\n",
            "[10. 14.  6.  7.]\n"
          ]
        }
      ]
    },
    {
      "cell_type": "code",
      "source": [
        "# Obtain each row in the second column of the first array.\n",
        "\n",
        "print(matrix1[0:,1])"
      ],
      "metadata": {
        "colab": {
          "base_uri": "https://localhost:8080/"
        },
        "id": "CklHQz-9mZbo",
        "outputId": "67510307-3330-487b-c105-fcf89fde9012"
      },
      "execution_count": null,
      "outputs": [
        {
          "output_type": "stream",
          "name": "stdout",
          "text": [
            "[19 15 14  6]\n"
          ]
        }
      ]
    },
    {
      "cell_type": "code",
      "source": [
        "# Convert Numeric entries(columns) of Iris.csv to Mean Centered Version\n",
        "import pandas as pd\n",
        "data=pd.read_csv('https://raw.githubusercontent.com/Pranav1710/Machine-Learning/main/Data/Iris.csv')\n",
        "arr1=np.array(data.head(5))\n",
        "mat5=np.array([arr1[:,0],arr1[:,1],arr1[:,2],arr1[:,3]])\n",
        "res=mat5-np.mean(mat5,axis=0)\n",
        "print(res)"
      ],
      "metadata": {
        "colab": {
          "base_uri": "https://localhost:8080/"
        },
        "id": "xT9NuHa_qyPE",
        "outputId": "3ad7b5ca-13d8-4efe-d7d2-d83675e5cd49"
      },
      "execution_count": null,
      "outputs": [
        {
          "output_type": "stream",
          "name": "stdout",
          "text": [
            "[[-1.75 -0.8250000000000002 -0.050000000000000266 0.7000000000000002 1.25]\n",
            " [2.3499999999999996 2.075 1.65 1.2999999999999998 1.25]\n",
            " [0.75 0.17499999999999982 0.1499999999999999 -0.19999999999999973\n",
            "  -0.1499999999999999]\n",
            " [-1.35 -1.4250000000000003 -1.7500000000000002 -1.7999999999999998 -2.35]]\n"
          ]
        }
      ]
    },
    {
      "cell_type": "markdown",
      "source": [
        "Draw Scatter Plot between SepalLengthCm and SepalWidthCm for \"Iris.csv\" file with proper labelling."
      ],
      "metadata": {
        "id": "0WjwsjpkzjQd"
      }
    },
    {
      "cell_type": "code",
      "source": [
        "import numpy as np\n",
        "import pandas as pd\n",
        "import matplotlib.pyplot as plt\n",
        "\n",
        "str1=[\"1\",\"2\",\"3\",\"4\",\"5\"]\n",
        "X=data['SepalLengthCm']\n",
        "Y=data['SepalWidthCm']\n",
        "plt.scatter(X,Y,s=10,color=\"green\")\n",
        "plt.xlabel(\"X\")\n",
        "plt.ylabel(\"Y\")\n",
        "for i, label in enumerate(str1):\n",
        "    plt.annotate(label, (X[i], Y[i]))\n",
        "plt.show()"
      ],
      "metadata": {
        "colab": {
          "base_uri": "https://localhost:8080/",
          "height": 282
        },
        "id": "AIw92AY1zgaa",
        "outputId": "fe344dce-6df7-4735-cf20-a7f50d39896f"
      },
      "execution_count": null,
      "outputs": [
        {
          "output_type": "display_data",
          "data": {
            "image/png": "[encoded data removed]",
            "text/plain": [
              "<Figure size 432x288 with 1 Axes>"
            ]
          },
          "metadata": {
            "needs_background": "light"
          }
        }
      ]
    },
    {
      "cell_type": "markdown",
      "source": [
        "Draw Histogram of SepalLengthCm with proper labelling."
      ],
      "metadata": {
        "id": "6Ey7Dqn41U3d"
      }
    },
    {
      "cell_type": "code",
      "source": [
        "plt.hist(data['SepalLengthCm'],bins=10)\n",
        "plt.xlabel('Value')\n",
        "plt.ylabel('Frequency')"
      ],
      "metadata": {
        "colab": {
          "base_uri": "https://localhost:8080/",
          "height": 296
        },
        "id": "kkO4ARMR1aHC",
        "outputId": "1687bbff-3f3e-411d-caba-d8cf08517c9f"
      },
      "execution_count": 13,
      "outputs": [
        {
          "output_type": "execute_result",
          "data": {
            "text/plain": [
              "Text(0, 0.5, 'Frequency')"
            ]
          },
          "metadata": {},
          "execution_count": 13
        },
        {
          "output_type": "display_data",
          "data": {
            "image/png": "[encoded data removed]",
            "text/plain": [
              "<Figure size 432x288 with 1 Axes>"
            ]
          },
          "metadata": {
            "needs_background": "light"
          }
        }
      ]
    },
    {
      "cell_type": "markdown",
      "source": [
        "Plot bar chart of Species"
      ],
      "metadata": {
        "id": "2GIVhhLnpRpy"
      }
    },
    {
      "cell_type": "code",
      "source": [
        "plt.bar(data['Species'],height=1)\n",
        "plt.show()"
      ],
      "metadata": {
        "colab": {
          "base_uri": "https://localhost:8080/",
          "height": 265
        },
        "id": "TTxKUUBZo7LQ",
        "outputId": "a5755b47-a7ec-474d-a569-b0fc88f832f0"
      },
      "execution_count": 14,
      "outputs": [
        {
          "output_type": "display_data",
          "data": {
            "image/png": "[encoded data removed]",
            "text/plain": [
              "<Figure size 432x288 with 1 Axes>"
            ]
          },
          "metadata": {
            "needs_background": "light"
          }
        }
      ]
    },
    {
      "cell_type": "markdown",
      "source": [
        "Count total null values for each column in this dataset."
      ],
      "metadata": {
        "id": "5WCRgl463vby"
      }
    },
    {
      "cell_type": "code",
      "source": [
        "print(\"Null Values:\\n\",data.isnull().sum())"
      ],
      "metadata": {
        "colab": {
          "base_uri": "https://localhost:8080/"
        },
        "id": "lDcCIqlj3w3k",
        "outputId": "02f79c90-4e9c-482a-87bb-c1a01c221f05"
      },
      "execution_count": 15,
      "outputs": [
        {
          "output_type": "stream",
          "name": "stdout",
          "text": [
            "Null Values:\n",
            " Id               0\n",
            "SepalLengthCm    0\n",
            "SepalWidthCm     0\n",
            "PetalLengthCm    0\n",
            "PetalWidthCm     0\n",
            "Species          0\n",
            "dtype: int64\n"
          ]
        }
      ]
    },
    {
      "cell_type": "markdown",
      "source": [
        "Print first 5 rows of SepalLengthCm."
      ],
      "metadata": {
        "id": "cpw7DOJC4BUd"
      }
    },
    {
      "cell_type": "code",
      "source": [
        "print(data.loc[1:5,'SepalLengthCm'])"
      ],
      "metadata": {
        "colab": {
          "base_uri": "https://localhost:8080/"
        },
        "id": "3d82a-Yn4DSZ",
        "outputId": "0dd53a1a-aef5-4c55-c846-7ee4c615531b"
      },
      "execution_count": 16,
      "outputs": [
        {
          "output_type": "stream",
          "name": "stdout",
          "text": [
            "1    4.9\n",
            "2    4.7\n",
            "3    4.6\n",
            "4    5.0\n",
            "5    5.4\n",
            "Name: SepalLengthCm, dtype: float64\n"
          ]
        }
      ]
    },
    {
      "cell_type": "markdown",
      "source": [
        "Print from 5th row and onwards and entire column of Iris.csv dataset."
      ],
      "metadata": {
        "id": "a7iBK98z4K1z"
      }
    },
    {
      "cell_type": "code",
      "source": [
        "print(data.loc[5:])"
      ],
      "metadata": {
        "colab": {
          "base_uri": "https://localhost:8080/"
        },
        "id": "4tQIVi0Q4Lbl",
        "outputId": "749a27d5-9c73-4c9f-9d98-6424b4692e07"
      },
      "execution_count": 17,
      "outputs": [
        {
          "output_type": "stream",
          "name": "stdout",
          "text": [
            "      Id  SepalLengthCm  ...  PetalWidthCm         Species\n",
            "5      6            5.4  ...           0.4     Iris-setosa\n",
            "6      7            4.6  ...           0.3     Iris-setosa\n",
            "7      8            5.0  ...           0.2     Iris-setosa\n",
            "8      9            4.4  ...           0.2     Iris-setosa\n",
            "9     10            4.9  ...           0.1     Iris-setosa\n",
            "..   ...            ...  ...           ...             ...\n",
            "145  146            6.7  ...           2.3  Iris-virginica\n",
            "146  147            6.3  ...           1.9  Iris-virginica\n",
            "147  148            6.5  ...           2.0  Iris-virginica\n",
            "148  149            6.2  ...           2.3  Iris-virginica\n",
            "149  150            5.9  ...           1.8  Iris-virginica\n",
            "\n",
            "[145 rows x 6 columns]\n"
          ]
        }
      ]
    }
  ]
}