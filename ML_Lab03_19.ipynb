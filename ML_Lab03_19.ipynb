{
  "nbformat": 4,
  "nbformat_minor": 0,
  "metadata": {
    "colab": {
      "name": "ML_Lab03_19.ipynb",
      "provenance": [],
      "collapsed_sections": []
    },
    "kernelspec": {
      "name": "python3",
      "display_name": "Python 3"
    },
    "language_info": {
      "name": "python"
    }
  },
  "cells": [
    {
      "cell_type": "code",
      "execution_count": null,
      "metadata": {
        "id": "U6I-LRn3bFFD"
      },
      "outputs": [],
      "source": [
        "# imports\n",
        "from sklearn import preprocessing\n",
        "from sklearn.naive_bayes import GaussianNB, MultinomialNB\n",
        "from sklearn.model_selection import train_test_split"
      ]
    },
    {
      "cell_type": "code",
      "source": [
        "weather = ['Sunny', 'Sunny', 'Overcast', 'Rainy', 'Rainy','Rainy', 'Overcast',\n",
        "'Sunny', 'Sunny', 'Rainy', 'Sunny', 'Overcast', 'Overcast', 'Rainy']\n",
        "\n",
        "temp = ['Hot','Hot','Hot','Mild','Cool','Cool','Cool','Mild',\n",
        "'Cool','Mild','Mild','Mild','Hot','Mild']\n",
        "\n",
        "play=['No','No','Yes','Yes','Yes','No','Yes','No','Yes',\n",
        "'Yes','Yes','Yes','Yes','No']"
      ],
      "metadata": {
        "id": "sBLVvji8bvA7"
      },
      "execution_count": null,
      "outputs": []
    },
    {
      "cell_type": "code",
      "source": [
        "# Digitize the data set using encoding\n",
        "#creating labelEncoder\n",
        "\n",
        "le = preprocessing.LabelEncoder()\n",
        "\n",
        "# Converting string labels into numbers.\n",
        "\n",
        "weather_encoded=le.fit_transform(weather)\n",
        "print(\"Weather:\" ,weather_encoded)\n",
        "\n",
        "# encode temperature\n",
        "\n",
        "temp_encoded = le.fit_transform(temp)\n",
        "print(\"Temp: \" ,temp_encoded)\n",
        "\n",
        "# encode play\n",
        "play_encoded = le.fit_transform(play)\n",
        "print(\"play: \" ,play_encoded)"
      ],
      "metadata": {
        "colab": {
          "base_uri": "https://localhost:8080/"
        },
        "id": "-bBV0SuYcBg7",
        "outputId": "664d378e-765f-46cd-cecc-d4d6e48efdbd"
      },
      "execution_count": null,
      "outputs": [
        {
          "output_type": "stream",
          "name": "stdout",
          "text": [
            "Weather: [2 2 0 1 1 1 0 2 2 1 2 0 0 1]\n",
            "Temp:  [1 1 1 2 0 0 0 2 0 2 2 2 1 2]\n",
            "play:  [0 0 1 1 1 0 1 0 1 1 1 1 1 0]\n"
          ]
        }
      ]
    },
    {
      "cell_type": "code",
      "source": [
        "features = tuple(zip(weather_encoded, temp_encoded))\n",
        "print(features)"
      ],
      "metadata": {
        "colab": {
          "base_uri": "https://localhost:8080/"
        },
        "id": "69gw3Srtcpu8",
        "outputId": "c49f20c0-5cad-4d5f-a215-80465ecc40ee"
      },
      "execution_count": null,
      "outputs": [
        {
          "output_type": "stream",
          "name": "stdout",
          "text": [
            "((2, 1), (2, 1), (0, 1), (1, 2), (1, 0), (1, 0), (0, 0), (2, 2), (2, 0), (1, 2), (2, 2), (0, 2), (0, 1), (1, 2))\n"
          ]
        }
      ]
    },
    {
      "cell_type": "code",
      "source": [
        "# create Model\n",
        "\n",
        "model1 = MultinomialNB()\n",
        "model2 = GaussianNB()\n",
        "model1.fit(features,play_encoded)\n",
        "model2.fit(features,play_encoded)\n"
      ],
      "metadata": {
        "colab": {
          "base_uri": "https://localhost:8080/"
        },
        "id": "VyC1yeeMfqGT",
        "outputId": "132ca52a-bb35-43f5-c35a-72d9c93534ff"
      },
      "execution_count": null,
      "outputs": [
        {
          "output_type": "execute_result",
          "data": {
            "text/plain": [
              "GaussianNB()"
            ]
          },
          "metadata": {},
          "execution_count": 8
        }
      ]
    },
    {
      "cell_type": "code",
      "source": [
        "#Predict Output with multinomial\n",
        "predicted= model1.predict([[1,0]]) # 0:Overcast, 1: hot\n",
        "print(\"Multinomial Predicted Value:\", predicted)\n",
        "\n",
        "#Predict Output with gaussian\n",
        "predicted= model2.predict([[2,2]]) # 2:sunny, 2:Mild\n",
        "print(\"gaussian Predicted Value:\", predicted)"
      ],
      "metadata": {
        "colab": {
          "base_uri": "https://localhost:8080/"
        },
        "id": "vqZOUYqOh_JU",
        "outputId": "1a7d2b12-ab4a-408c-f52a-6fc0a2965ac4"
      },
      "execution_count": null,
      "outputs": [
        {
          "output_type": "stream",
          "name": "stdout",
          "text": [
            "Multinomial Predicted Value: [1]\n",
            "gaussian Predicted Value: [0]\n"
          ]
        }
      ]
    }
  ]
}